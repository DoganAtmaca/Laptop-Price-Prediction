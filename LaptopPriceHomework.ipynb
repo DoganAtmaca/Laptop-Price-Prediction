{
 "cells": [
  {
   "cell_type": "code",
   "execution_count": 45,
   "id": "9a7c83f6-770d-4484-bf4c-5f301698d9b2",
   "metadata": {},
   "outputs": [],
   "source": [
    "import pandas as pd\n",
    "import re\n",
    "import seaborn as sns\n",
    "import numpy as np"
   ]
  },
  {
   "cell_type": "code",
   "execution_count": 46,
   "id": "0fee7b86-6f2e-4bb1-958c-211b08048e6f",
   "metadata": {},
   "outputs": [],
   "source": [
    "data =pd.read_csv('laptop_data.csv')"
   ]
  },
  {
   "cell_type": "code",
   "execution_count": 47,
   "id": "692b98ab-cc3a-45e3-98fd-792df661d1fe",
   "metadata": {},
   "outputs": [
    {
     "name": "stdout",
     "output_type": "stream",
     "text": [
      "<class 'pandas.core.frame.DataFrame'>\n",
      "RangeIndex: 1303 entries, 0 to 1302\n",
      "Data columns (total 12 columns):\n",
      " #   Column            Non-Null Count  Dtype  \n",
      "---  ------            --------------  -----  \n",
      " 0   Unnamed: 0        1303 non-null   int64  \n",
      " 1   Company           1303 non-null   object \n",
      " 2   TypeName          1303 non-null   object \n",
      " 3   Inches            1303 non-null   float64\n",
      " 4   ScreenResolution  1303 non-null   object \n",
      " 5   Cpu               1303 non-null   object \n",
      " 6   Ram               1303 non-null   object \n",
      " 7   Memory            1303 non-null   object \n",
      " 8   Gpu               1303 non-null   object \n",
      " 9   OpSys             1303 non-null   object \n",
      " 10  Weight            1303 non-null   object \n",
      " 11  Price             1303 non-null   float64\n",
      "dtypes: float64(2), int64(1), object(9)\n",
      "memory usage: 122.3+ KB\n"
     ]
    }
   ],
   "source": [
    "data.info()"
   ]
  },
  {
   "cell_type": "code",
   "execution_count": 48,
   "id": "cb24cdf9-8511-4bf3-b73a-3757015b1d9d",
   "metadata": {},
   "outputs": [],
   "source": [
    "#İŞİMİZE YARAMAYACAK OLAN SÜTUNALRI ÇIKARIYORUZ.\n",
    "data = data.drop(['Unnamed: 0'],axis=1)"
   ]
  },
  {
   "cell_type": "code",
   "execution_count": 49,
   "id": "3ea6a640-5065-44eb-9652-3ab8d152c6be",
   "metadata": {},
   "outputs": [],
   "source": [
    "#ScreenResolution SÜTUNUNDA IPS YAZANLAR İÇİN YENİ BİR SÜTUN OLUŞTURUP 1 VEYA 0 YAZIYORUZ.\n",
    "def ıps_screen(text):\n",
    "    if 'IPS' in text:\n",
    "        return 1\n",
    "    else:\n",
    "        return 0\n",
    "data['IPS_Screen'] = data['ScreenResolution'].apply(ıps_screen)"
   ]
  },
  {
   "cell_type": "code",
   "execution_count": 50,
   "id": "4816f486-8911-41d5-ab39-f7e713326cae",
   "metadata": {},
   "outputs": [],
   "source": [
    "#ScreenResolution SÜTUNUNDA Touchscreen YAZANLAR İÇİN YENİ BİR SÜTUN OLUŞTURUP 1 VEYA 0 YAZIYORUZ.\n",
    "def dokunmatik_ekran(text):\n",
    "    if 'Touchscreen' in text  :\n",
    "        return 1\n",
    "    else:\n",
    "        return 0\n",
    "data['touchscreen'] = data['ScreenResolution'].apply(dokunmatik_ekran)"
   ]
  },
  {
   "cell_type": "code",
   "execution_count": 51,
   "id": "f88c83b3-4d35-418f-b740-229450997e12",
   "metadata": {},
   "outputs": [],
   "source": [
    "#ScreenResolution SÜTUNUNDA YAZAN WİDTH VE HEIGHT DEĞERLERİNİ ALMAK İÇİN SADECE SÜTUNDAKİ SAYILARI ALIYORUZ.\n",
    "#ARDINDAN İLK 4 RAKAMI ALIP BUNLAR WİDTH SÜTUNUNA GERİ KALAN RAKAMLARI DA HEIGHT SÜTUNUNA VERİYORUZ.\n",
    "def sayilari_bul(txt):\n",
    "    txt = \"\".join(re.findall('\\d',txt))\n",
    "    return txt\n",
    "data['ScreenResolution'] = data['ScreenResolution'].apply(sayilari_bul)\n",
    "data['screen_width'] = data['ScreenResolution'].str[:4]\n",
    "data['screen_height'] = data['ScreenResolution'].str[4:]"
   ]
  },
  {
   "cell_type": "code",
   "execution_count": 52,
   "id": "cbfacba9-057f-439b-b38e-e56306c19d42",
   "metadata": {},
   "outputs": [],
   "source": [
    "#CPU VE GPU SÜTUNLARINDA ÇOK FAZLA BİLGİ VAR BİZ SADECE MARKALARINI ALIP BAŞKA SÜTUNLARA YAZDIRIYORUZ.\n",
    "def cpu_find(text):\n",
    "    if 'Intel' in text:\n",
    "        return 'Intel'\n",
    "    elif 'AMD' in text:\n",
    "        return 'AMD'\n",
    "    else:\n",
    "        return 'Samsung'\n",
    "data['cpu_model'] = data['Cpu'].apply(cpu_find)\n",
    "\n",
    "\n",
    "def gpu_find(text):\n",
    "    if 'Intel' in text:\n",
    "        return 'Intel'\n",
    "    elif 'AMD' in text:\n",
    "        return 'AMD'\n",
    "    elif 'ARM' in text:\n",
    "        return 'ARM'\n",
    "    else:\n",
    "        return 'Nvidia'\n",
    "data['gpu_model'] = data['Gpu'].apply(gpu_find)\n"
   ]
  },
  {
   "cell_type": "code",
   "execution_count": 53,
   "id": "d0d5e3e7-4f87-4b02-bbdb-214697e0f226",
   "metadata": {},
   "outputs": [],
   "source": [
    "#GPU MODELİ İÇİN RTX VE GTX ÖNEMLİ BİR FAKTÖR. BUNKLARIN OLMASI FİYATI ETKİLER BU NEDENLE BUNUN İÇİNDE BİR SÜTUN YAPACAĞIZ.\n",
    "data['gtx_rtx'] = data['Gpu'].str.contains('GTX|RTX').astype(int)"
   ]
  },
  {
   "cell_type": "code",
   "execution_count": 54,
   "id": "9940914d-0336-422f-9b25-743d99101642",
   "metadata": {},
   "outputs": [],
   "source": [
    "def cpu_level(cpu):\n",
    "    if 'i3' in cpu: return 3\n",
    "    elif 'i5' in cpu: return 5\n",
    "    elif 'i7' in cpu: return 7\n",
    "    elif 'i9' in cpu: return 9\n",
    "    else: return 0\n",
    "data['cpu_level'] = data['Cpu'].apply(cpu_level)"
   ]
  },
  {
   "cell_type": "code",
   "execution_count": 55,
   "id": "aa06aa54-c1ae-4bf2-916c-8c9614d0f7d4",
   "metadata": {},
   "outputs": [],
   "source": [
    "#RAM SÜTUNUNDA SADECE YAZAN SAYILARIM ALIP AYNI SÜTUNA ATIYORUZ\n",
    "data['Ram'] = data['Ram'].apply(sayilari_bul) #BURADA YİNE YUKARIDA TANIMLADIĞIMIZ SAYILARI BUL FONKSİYONUNU KULLANDIK"
   ]
  },
  {
   "cell_type": "code",
   "execution_count": 56,
   "id": "eb8966c2-cff3-449b-ad1d-8e88df56445f",
   "metadata": {},
   "outputs": [],
   "source": [
    "#WEIGHT SÜTUNUNDA SADECE FLOAT ŞEKLİNDE OLAN SAYILARI ALIYORUZ. VE AYNI SÜTUNA ATIYORUZ.\n",
    "def weight(kg):\n",
    "    kg = re.findall(r\"\\d+\\.?\\d*\",kg)\n",
    "    return kg[0]\n",
    "data['Weight'] = data['Weight'].apply(weight)"
   ]
  },
  {
   "cell_type": "code",
   "execution_count": 57,
   "id": "6b9552df-94bc-40fd-9323-6feb6b4e52e2",
   "metadata": {},
   "outputs": [],
   "source": [
    "#MEMORY SÜTUNUNDA YER ALAN HAFIZA TİPİ VE BÜYÜKLÜĞÜNÜ AYRI AYRI SÜTUNLARDA YAZIYORUZ. YANİ HDD SSD FLASH VE HYBRID İÇİN AYRI SÜTUNLAR OLUŞTURUYORUZ.\n",
    "#BUNLARIN ALTINA DA BÜYÜKLÜKLERİNİ YAZIYORUZ.\n",
    "def hafiza_tipi(text):\n",
    "    hdd=0\n",
    "    ssd=0\n",
    "    flash=0\n",
    "    hybrid=0\n",
    "\n",
    "    doc = text.split('+')\n",
    "    for mm in doc:\n",
    "        match = re.findall(r'\\d+\\.?\\d*',mm)\n",
    "        if not match:\n",
    "            continue\n",
    "        number = float(match[0])\n",
    "        if 'TB' in mm:\n",
    "            number = number*1024\n",
    "\n",
    "        if 'SSD' in mm:\n",
    "            ssd += number\n",
    "        elif 'HDD' in mm:\n",
    "            hdd += number\n",
    "        elif 'Flash Storage' in mm:\n",
    "            flash += number\n",
    "        elif 'Hybrid' in mm:\n",
    "            hybrid += number\n",
    "\n",
    "    return pd.Series([hdd,ssd,flash,hybrid])\n",
    "data[['HDD_GB', 'SSD_GB', 'Flash_GB','Hybrid_GB']] = data['Memory'].apply(hafiza_tipi)"
   ]
  },
  {
   "cell_type": "code",
   "execution_count": 58,
   "id": "1378815a-ce94-4a3b-97e8-f562a95feb13",
   "metadata": {},
   "outputs": [],
   "source": [
    "def os_name(os):\n",
    "    if 'Windows' in os:\n",
    "        return 'Windows'\n",
    "    elif 'Mac' in os or 'macOS' in os:\n",
    "        return 'Mac'\n",
    "    elif 'Linux' in os:\n",
    "        return 'Linux'\n",
    "    elif 'Android' in os:\n",
    "        return 'Android'\n",
    "    elif 'Chrome' in os:\n",
    "        return 'Chrome'\n",
    "    else:\n",
    "        return 'No OS'\n",
    "\n",
    "data['OpSys_clean'] = data['OpSys'].apply(os_name)"
   ]
  },
  {
   "cell_type": "code",
   "execution_count": 59,
   "id": "13b707cb-9033-428a-bf05-9e21c5dd1b52",
   "metadata": {},
   "outputs": [],
   "source": [
    "#HAFIZA TÜRLERİNİ ÖNEMİNE GÖRE GÜÇLENDİRİP(YANİ DEĞERLERİNİ ÇARPIP) TOPLAMLARINI YENİ SÜTUNA YAZDIK\n",
    "data['total_storage'] = data['HDD_GB']*0.8 + data['SSD_GB']*1.5 + data['Flash_GB']*1.1 + data['Hybrid_GB']"
   ]
  },
  {
   "cell_type": "code",
   "execution_count": 60,
   "id": "408f52f0-c421-42a4-a91e-eda42bfaea48",
   "metadata": {},
   "outputs": [],
   "source": [
    "#VERİDE OBJECT OLAN SÜTUNLARI SAYIYA ÇEVİRDİK\n",
    "data['Ram']=data['Ram'].astype('int64')\n",
    "data['Weight'] = data['Weight'].astype('float64')\n",
    "data['screen_width']=data['screen_width'].astype('int64')\n",
    "data['screen_height']=data['screen_height'].astype('int64')\n",
    "data['Price'] = data['Price'].astype('int64')"
   ]
  },
  {
   "cell_type": "code",
   "execution_count": 61,
   "id": "8ecc9447-1fad-4471-98be-4a5cde7e1415",
   "metadata": {},
   "outputs": [],
   "source": [
    "#YENİ PPI DEĞERİ İÇİN BİR SÜTUN OLUŞTURDUK\n",
    "data['ppi'] = (((data['screen_width']**2) + (data['screen_height']**2))**0.5)/data['Inches']"
   ]
  },
  {
   "cell_type": "code",
   "execution_count": 62,
   "id": "08fe30ac-915b-4235-aa44-98cb2643fde3",
   "metadata": {},
   "outputs": [],
   "source": [
    "#RAM MİKTARINA GÖRE DÜŞÜK OLANA 1, ORTALAMA OLANA 2, YÜKSEK OLANA 3 VERDİK.\n",
    "def ram_normalize(ram):\n",
    "    if ram < 16:\n",
    "        return 1\n",
    "    elif 16 < ram < 32:\n",
    "        return 2\n",
    "    else:\n",
    "        return 3\n",
    "data['ram_normalize'] = data['Ram'].apply(ram_normalize)"
   ]
  },
  {
   "cell_type": "code",
   "execution_count": 63,
   "id": "5543a687-8ae0-40ae-90c9-b17eab847e99",
   "metadata": {},
   "outputs": [],
   "source": [
    "#ARTIK GEREKSİZ SÜTUNLARI TEMİZLEYEBİLİRİZ.\n",
    "data=data.drop(['ScreenResolution','Cpu','Memory','Gpu','OpSys'],axis=1)"
   ]
  },
  {
   "cell_type": "code",
   "execution_count": 64,
   "id": "9978fbc7-97a3-4be1-a763-719726d65fdd",
   "metadata": {},
   "outputs": [
    {
     "data": {
      "text/html": [
       "<div>\n",
       "<style scoped>\n",
       "    .dataframe tbody tr th:only-of-type {\n",
       "        vertical-align: middle;\n",
       "    }\n",
       "\n",
       "    .dataframe tbody tr th {\n",
       "        vertical-align: top;\n",
       "    }\n",
       "\n",
       "    .dataframe thead th {\n",
       "        text-align: right;\n",
       "    }\n",
       "</style>\n",
       "<table border=\"1\" class=\"dataframe\">\n",
       "  <thead>\n",
       "    <tr style=\"text-align: right;\">\n",
       "      <th></th>\n",
       "      <th>Company</th>\n",
       "      <th>TypeName</th>\n",
       "      <th>Inches</th>\n",
       "      <th>Ram</th>\n",
       "      <th>Weight</th>\n",
       "      <th>Price</th>\n",
       "      <th>IPS_Screen</th>\n",
       "      <th>touchscreen</th>\n",
       "      <th>screen_width</th>\n",
       "      <th>screen_height</th>\n",
       "      <th>cpu_model</th>\n",
       "      <th>gpu_model</th>\n",
       "      <th>gtx_rtx</th>\n",
       "      <th>cpu_level</th>\n",
       "      <th>HDD_GB</th>\n",
       "      <th>SSD_GB</th>\n",
       "      <th>Flash_GB</th>\n",
       "      <th>Hybrid_GB</th>\n",
       "      <th>OpSys_clean</th>\n",
       "      <th>total_storage</th>\n",
       "      <th>ppi</th>\n",
       "      <th>ram_normalize</th>\n",
       "    </tr>\n",
       "  </thead>\n",
       "  <tbody>\n",
       "    <tr>\n",
       "      <th>1284</th>\n",
       "      <td>Lenovo</td>\n",
       "      <td>2 in 1 Convertible</td>\n",
       "      <td>14.0</td>\n",
       "      <td>4</td>\n",
       "      <td>1.80</td>\n",
       "      <td>33992</td>\n",
       "      <td>1</td>\n",
       "      <td>1</td>\n",
       "      <td>1920</td>\n",
       "      <td>1080</td>\n",
       "      <td>Intel</td>\n",
       "      <td>Intel</td>\n",
       "      <td>0</td>\n",
       "      <td>7</td>\n",
       "      <td>0.0</td>\n",
       "      <td>128.0</td>\n",
       "      <td>0.0</td>\n",
       "      <td>0.0</td>\n",
       "      <td>Windows</td>\n",
       "      <td>192.0</td>\n",
       "      <td>157.350512</td>\n",
       "      <td>1</td>\n",
       "    </tr>\n",
       "    <tr>\n",
       "      <th>535</th>\n",
       "      <td>Dell</td>\n",
       "      <td>Notebook</td>\n",
       "      <td>15.6</td>\n",
       "      <td>8</td>\n",
       "      <td>1.93</td>\n",
       "      <td>72940</td>\n",
       "      <td>0</td>\n",
       "      <td>0</td>\n",
       "      <td>1920</td>\n",
       "      <td>1080</td>\n",
       "      <td>Intel</td>\n",
       "      <td>Nvidia</td>\n",
       "      <td>0</td>\n",
       "      <td>7</td>\n",
       "      <td>0.0</td>\n",
       "      <td>256.0</td>\n",
       "      <td>0.0</td>\n",
       "      <td>0.0</td>\n",
       "      <td>Windows</td>\n",
       "      <td>384.0</td>\n",
       "      <td>141.211998</td>\n",
       "      <td>1</td>\n",
       "    </tr>\n",
       "    <tr>\n",
       "      <th>614</th>\n",
       "      <td>Dell</td>\n",
       "      <td>Notebook</td>\n",
       "      <td>15.6</td>\n",
       "      <td>4</td>\n",
       "      <td>1.93</td>\n",
       "      <td>46300</td>\n",
       "      <td>0</td>\n",
       "      <td>0</td>\n",
       "      <td>1366</td>\n",
       "      <td>768</td>\n",
       "      <td>Intel</td>\n",
       "      <td>Intel</td>\n",
       "      <td>0</td>\n",
       "      <td>5</td>\n",
       "      <td>500.0</td>\n",
       "      <td>0.0</td>\n",
       "      <td>0.0</td>\n",
       "      <td>0.0</td>\n",
       "      <td>Linux</td>\n",
       "      <td>400.0</td>\n",
       "      <td>100.454670</td>\n",
       "      <td>1</td>\n",
       "    </tr>\n",
       "    <tr>\n",
       "      <th>430</th>\n",
       "      <td>Samsung</td>\n",
       "      <td>Netbook</td>\n",
       "      <td>11.6</td>\n",
       "      <td>4</td>\n",
       "      <td>1.15</td>\n",
       "      <td>14332</td>\n",
       "      <td>0</td>\n",
       "      <td>0</td>\n",
       "      <td>1366</td>\n",
       "      <td>768</td>\n",
       "      <td>Intel</td>\n",
       "      <td>Intel</td>\n",
       "      <td>0</td>\n",
       "      <td>0</td>\n",
       "      <td>0.0</td>\n",
       "      <td>0.0</td>\n",
       "      <td>16.0</td>\n",
       "      <td>0.0</td>\n",
       "      <td>Chrome</td>\n",
       "      <td>17.6</td>\n",
       "      <td>135.094211</td>\n",
       "      <td>1</td>\n",
       "    </tr>\n",
       "    <tr>\n",
       "      <th>282</th>\n",
       "      <td>Lenovo</td>\n",
       "      <td>Gaming</td>\n",
       "      <td>15.6</td>\n",
       "      <td>8</td>\n",
       "      <td>2.50</td>\n",
       "      <td>44169</td>\n",
       "      <td>1</td>\n",
       "      <td>0</td>\n",
       "      <td>1920</td>\n",
       "      <td>1080</td>\n",
       "      <td>Intel</td>\n",
       "      <td>Nvidia</td>\n",
       "      <td>1</td>\n",
       "      <td>5</td>\n",
       "      <td>0.0</td>\n",
       "      <td>256.0</td>\n",
       "      <td>0.0</td>\n",
       "      <td>0.0</td>\n",
       "      <td>Windows</td>\n",
       "      <td>384.0</td>\n",
       "      <td>141.211998</td>\n",
       "      <td>1</td>\n",
       "    </tr>\n",
       "  </tbody>\n",
       "</table>\n",
       "</div>"
      ],
      "text/plain": [
       "      Company            TypeName  Inches  Ram  Weight  Price  IPS_Screen  \\\n",
       "1284   Lenovo  2 in 1 Convertible    14.0    4    1.80  33992           1   \n",
       "535      Dell            Notebook    15.6    8    1.93  72940           0   \n",
       "614      Dell            Notebook    15.6    4    1.93  46300           0   \n",
       "430   Samsung             Netbook    11.6    4    1.15  14332           0   \n",
       "282    Lenovo              Gaming    15.6    8    2.50  44169           1   \n",
       "\n",
       "      touchscreen  screen_width  screen_height cpu_model gpu_model  gtx_rtx  \\\n",
       "1284            1          1920           1080     Intel     Intel        0   \n",
       "535             0          1920           1080     Intel    Nvidia        0   \n",
       "614             0          1366            768     Intel     Intel        0   \n",
       "430             0          1366            768     Intel     Intel        0   \n",
       "282             0          1920           1080     Intel    Nvidia        1   \n",
       "\n",
       "      cpu_level  HDD_GB  SSD_GB  Flash_GB  Hybrid_GB OpSys_clean  \\\n",
       "1284          7     0.0   128.0       0.0        0.0     Windows   \n",
       "535           7     0.0   256.0       0.0        0.0     Windows   \n",
       "614           5   500.0     0.0       0.0        0.0       Linux   \n",
       "430           0     0.0     0.0      16.0        0.0      Chrome   \n",
       "282           5     0.0   256.0       0.0        0.0     Windows   \n",
       "\n",
       "      total_storage         ppi  ram_normalize  \n",
       "1284          192.0  157.350512              1  \n",
       "535           384.0  141.211998              1  \n",
       "614           400.0  100.454670              1  \n",
       "430            17.6  135.094211              1  \n",
       "282           384.0  141.211998              1  "
      ]
     },
     "execution_count": 64,
     "metadata": {},
     "output_type": "execute_result"
    }
   ],
   "source": [
    "data.sample(5)"
   ]
  },
  {
   "cell_type": "code",
   "execution_count": 65,
   "id": "54c0542f-a4a3-4a15-8d77-48a6d5f57304",
   "metadata": {},
   "outputs": [
    {
     "name": "stdout",
     "output_type": "stream",
     "text": [
      "<class 'pandas.core.frame.DataFrame'>\n",
      "RangeIndex: 1303 entries, 0 to 1302\n",
      "Data columns (total 22 columns):\n",
      " #   Column         Non-Null Count  Dtype  \n",
      "---  ------         --------------  -----  \n",
      " 0   Company        1303 non-null   object \n",
      " 1   TypeName       1303 non-null   object \n",
      " 2   Inches         1303 non-null   float64\n",
      " 3   Ram            1303 non-null   int64  \n",
      " 4   Weight         1303 non-null   float64\n",
      " 5   Price          1303 non-null   int64  \n",
      " 6   IPS_Screen     1303 non-null   int64  \n",
      " 7   touchscreen    1303 non-null   int64  \n",
      " 8   screen_width   1303 non-null   int64  \n",
      " 9   screen_height  1303 non-null   int64  \n",
      " 10  cpu_model      1303 non-null   object \n",
      " 11  gpu_model      1303 non-null   object \n",
      " 12  gtx_rtx        1303 non-null   int32  \n",
      " 13  cpu_level      1303 non-null   int64  \n",
      " 14  HDD_GB         1303 non-null   float64\n",
      " 15  SSD_GB         1303 non-null   float64\n",
      " 16  Flash_GB       1303 non-null   float64\n",
      " 17  Hybrid_GB      1303 non-null   float64\n",
      " 18  OpSys_clean    1303 non-null   object \n",
      " 19  total_storage  1303 non-null   float64\n",
      " 20  ppi            1303 non-null   float64\n",
      " 21  ram_normalize  1303 non-null   int64  \n",
      "dtypes: float64(8), int32(1), int64(8), object(5)\n",
      "memory usage: 219.0+ KB\n"
     ]
    }
   ],
   "source": [
    "#ARTIK DATAMIZ EĞİTİLMEYE HAZIR.\n",
    "data.info()"
   ]
  },
  {
   "cell_type": "code",
   "execution_count": 66,
   "id": "627fcf82-025d-475b-bff1-c504dc8f4997",
   "metadata": {},
   "outputs": [
    {
     "data": {
      "text/plain": [
       "Price            1.000000\n",
       "Ram              0.743007\n",
       "SSD_GB           0.670682\n",
       "ram_normalize    0.605813\n",
       "cpu_level        0.564593\n",
       "screen_height    0.552809\n",
       "screen_width     0.542356\n",
       "ppi              0.474640\n",
       "total_storage    0.373788\n",
       "gtx_rtx          0.363580\n",
       "IPS_Screen       0.252207\n",
       "Weight           0.210370\n",
       "touchscreen      0.191226\n",
       "Inches           0.068196\n",
       "Hybrid_GB        0.008011\n",
       "Flash_GB         0.040511\n",
       "HDD_GB           0.094856\n",
       "Name: Price, dtype: float64"
      ]
     },
     "execution_count": 66,
     "metadata": {},
     "output_type": "execute_result"
    }
   ],
   "source": [
    "abs(data.corr(numeric_only=True)['Price'].sort_values(ascending=False))"
   ]
  },
  {
   "cell_type": "code",
   "execution_count": 67,
   "id": "4d5cd6f9-9e08-471d-8987-da0e6109b0c0",
   "metadata": {},
   "outputs": [],
   "source": [
    "x_data = data.drop(['Price','Inches','Hybrid_GB','Flash_GB','HDD_GB'],axis=1)"
   ]
  },
  {
   "cell_type": "code",
   "execution_count": 68,
   "id": "54eb7f36-a2f8-48a6-a5c5-3d02edccb861",
   "metadata": {},
   "outputs": [],
   "source": [
    "#ARTIK SAYISAL OLMAYAN TÜM SÜTUNLARI SAYIYA ÇEVİRECEĞİZ.\n",
    "x=pd.get_dummies(x_data)"
   ]
  },
  {
   "cell_type": "code",
   "execution_count": 69,
   "id": "f65d5f7b-b3fc-451a-823f-7dadf90ad4bb",
   "metadata": {},
   "outputs": [],
   "source": [
    "y= data[['Price']]"
   ]
  },
  {
   "cell_type": "code",
   "execution_count": 70,
   "id": "3f66077c-1359-4d47-93d2-7a9798b6796b",
   "metadata": {},
   "outputs": [],
   "source": [
    "import pandas as pd\n",
    "import numpy as np\n",
    "import matplotlib.pyplot as plt\n",
    "import seaborn as sns\n",
    "import warnings\n",
    "warnings.filterwarnings(\"ignore\")\n",
    "pd.set_option(\"display.max_columns\",100)\n",
    "\n",
    "from sklearn.linear_model import LinearRegression,SGDRegressor,Ridge,Lasso,ElasticNet\n",
    "from sklearn.neighbors import KNeighborsRegressor, RadiusNeighborsRegressor\n",
    "from sklearn.ensemble import GradientBoostingRegressor,AdaBoostRegressor\n",
    "from sklearn.tree import DecisionTreeRegressor, plot_tree, ExtraTreeRegressor\n",
    "#pip install xgboost\n",
    "from xgboost import XGBRegressor\n",
    "from sklearn.svm import SVR\n",
    "\n",
    "from sklearn.neural_network import MLPRegressor\n",
    "\n",
    "from sklearn.model_selection import train_test_split\n",
    "from sklearn.metrics import mean_squared_error,r2_score,mean_absolute_error\n",
    "\n",
    "from sklearn.preprocessing import StandardScaler\n",
    "from sklearn.preprocessing import MinMaxScaler\n",
    "\n",
    "def algo_test(x,y):\n",
    "        #Bütün modelleri tanımlıyorum\n",
    "        L=LinearRegression()\n",
    "        R=Ridge()\n",
    "        Lass=Lasso()\n",
    "        E=ElasticNet()\n",
    "        sgd=SGDRegressor()\n",
    "        ETR=ExtraTreeRegressor()\n",
    "        GBR=GradientBoostingRegressor()\n",
    "        kn=KNeighborsRegressor()\n",
    "        rkn=RadiusNeighborsRegressor(radius=1.0)\n",
    "        ada=AdaBoostRegressor()\n",
    "        dt=DecisionTreeRegressor()\n",
    "        xgb=XGBRegressor()\n",
    "        svr=SVR()\n",
    "        mlp_regressor = MLPRegressor()\n",
    "\n",
    "       \n",
    "        \n",
    "        algos=[L,R,Lass,E,sgd,ETR,GBR,ada,kn,dt,xgb,svr,mlp_regressor]\n",
    "        algo_names=['Linear','Ridge','Lasso','ElasticNet','SGD','Extra Tree','Gradient Boosting',\n",
    "                    'KNeighborsRegressor','AdaBoost','Decision Tree','XGBRegressor','SVR','mlp_regressor']\n",
    "        x=MinMaxScaler().fit_transform(x)\n",
    "        x_train, x_test, y_train, y_test=train_test_split(x,y,test_size=.20,random_state=42)\n",
    "        \n",
    "        r_squared= []\n",
    "        rmse= []\n",
    "        mae= []\n",
    "        \n",
    "        #Hata ve doğruluk oranlarını bir tablo haline getirmek için bir dataframe oluşturuyorum\n",
    "        result=pd.DataFrame(columns=['R_Squared','RMSE','MAE'],index=algo_names)\n",
    "        \n",
    "        \n",
    "        for algo in algos:\n",
    "            p=algo.fit(x_train,y_train).predict(x_test)\n",
    "            r_squared.append(r2_score(y_test,p))\n",
    "            rmse.append(mean_squared_error(y_test,p)**.5)\n",
    "            mae.append(mean_absolute_error(y_test,p))\n",
    "        \n",
    "            \n",
    "\n",
    "        #result adlı tabloya doğruluk ve hata oranlarımı yerleştiriyorum\n",
    "        result.R_Squared=r_squared\n",
    "        result.RMSE=rmse\n",
    "        result.MAE=mae\n",
    "        \n",
    "       #oluşturduğum result tablosunu doğruluk oranına (r2_score) göre sıralayıp dönüyor\n",
    "        rtable=result.sort_values('R_Squared',ascending=False)\n",
    "        return rtable"
   ]
  },
  {
   "cell_type": "code",
   "execution_count": 71,
   "id": "7689607e-cd02-449f-96f7-a289e2cf2beb",
   "metadata": {},
   "outputs": [
    {
     "data": {
      "text/html": [
       "<div>\n",
       "<style scoped>\n",
       "    .dataframe tbody tr th:only-of-type {\n",
       "        vertical-align: middle;\n",
       "    }\n",
       "\n",
       "    .dataframe tbody tr th {\n",
       "        vertical-align: top;\n",
       "    }\n",
       "\n",
       "    .dataframe thead th {\n",
       "        text-align: right;\n",
       "    }\n",
       "</style>\n",
       "<table border=\"1\" class=\"dataframe\">\n",
       "  <thead>\n",
       "    <tr style=\"text-align: right;\">\n",
       "      <th></th>\n",
       "      <th>R_Squared</th>\n",
       "      <th>RMSE</th>\n",
       "      <th>MAE</th>\n",
       "    </tr>\n",
       "  </thead>\n",
       "  <tbody>\n",
       "    <tr>\n",
       "      <th>XGBRegressor</th>\n",
       "      <td>0.821637</td>\n",
       "      <td>16036.757741</td>\n",
       "      <td>9259.235808</td>\n",
       "    </tr>\n",
       "    <tr>\n",
       "      <th>Gradient Boosting</th>\n",
       "      <td>0.800365</td>\n",
       "      <td>16966.114202</td>\n",
       "      <td>10397.271382</td>\n",
       "    </tr>\n",
       "    <tr>\n",
       "      <th>Lasso</th>\n",
       "      <td>0.764596</td>\n",
       "      <td>18423.463848</td>\n",
       "      <td>12675.649549</td>\n",
       "    </tr>\n",
       "    <tr>\n",
       "      <th>Linear</th>\n",
       "      <td>0.764234</td>\n",
       "      <td>18437.612517</td>\n",
       "      <td>12693.268947</td>\n",
       "    </tr>\n",
       "    <tr>\n",
       "      <th>Ridge</th>\n",
       "      <td>0.757061</td>\n",
       "      <td>18716.004603</td>\n",
       "      <td>12638.850291</td>\n",
       "    </tr>\n",
       "    <tr>\n",
       "      <th>AdaBoost</th>\n",
       "      <td>0.735046</td>\n",
       "      <td>19545.638023</td>\n",
       "      <td>12413.468199</td>\n",
       "    </tr>\n",
       "    <tr>\n",
       "      <th>SGD</th>\n",
       "      <td>0.729159</td>\n",
       "      <td>19761.589173</td>\n",
       "      <td>12683.512414</td>\n",
       "    </tr>\n",
       "    <tr>\n",
       "      <th>Decision Tree</th>\n",
       "      <td>0.722958</td>\n",
       "      <td>19986.511248</td>\n",
       "      <td>12219.510536</td>\n",
       "    </tr>\n",
       "    <tr>\n",
       "      <th>Extra Tree</th>\n",
       "      <td>0.702003</td>\n",
       "      <td>20728.621684</td>\n",
       "      <td>12430.262452</td>\n",
       "    </tr>\n",
       "    <tr>\n",
       "      <th>KNeighborsRegressor</th>\n",
       "      <td>0.605232</td>\n",
       "      <td>23858.082426</td>\n",
       "      <td>19764.886123</td>\n",
       "    </tr>\n",
       "    <tr>\n",
       "      <th>ElasticNet</th>\n",
       "      <td>0.420818</td>\n",
       "      <td>28898.287669</td>\n",
       "      <td>19963.401925</td>\n",
       "    </tr>\n",
       "    <tr>\n",
       "      <th>SVR</th>\n",
       "      <td>-0.027993</td>\n",
       "      <td>38499.898369</td>\n",
       "      <td>26381.757702</td>\n",
       "    </tr>\n",
       "    <tr>\n",
       "      <th>mlp_regressor</th>\n",
       "      <td>-2.236737</td>\n",
       "      <td>68315.341273</td>\n",
       "      <td>56961.129297</td>\n",
       "    </tr>\n",
       "  </tbody>\n",
       "</table>\n",
       "</div>"
      ],
      "text/plain": [
       "                     R_Squared          RMSE           MAE\n",
       "XGBRegressor          0.821637  16036.757741   9259.235808\n",
       "Gradient Boosting     0.800365  16966.114202  10397.271382\n",
       "Lasso                 0.764596  18423.463848  12675.649549\n",
       "Linear                0.764234  18437.612517  12693.268947\n",
       "Ridge                 0.757061  18716.004603  12638.850291\n",
       "AdaBoost              0.735046  19545.638023  12413.468199\n",
       "SGD                   0.729159  19761.589173  12683.512414\n",
       "Decision Tree         0.722958  19986.511248  12219.510536\n",
       "Extra Tree            0.702003  20728.621684  12430.262452\n",
       "KNeighborsRegressor   0.605232  23858.082426  19764.886123\n",
       "ElasticNet            0.420818  28898.287669  19963.401925\n",
       "SVR                  -0.027993  38499.898369  26381.757702\n",
       "mlp_regressor        -2.236737  68315.341273  56961.129297"
      ]
     },
     "execution_count": 71,
     "metadata": {},
     "output_type": "execute_result"
    }
   ],
   "source": [
    "algo_test(x,y)"
   ]
  },
  {
   "cell_type": "code",
   "execution_count": 122,
   "id": "51d6a323-3438-488c-8a5f-19d7e4979231",
   "metadata": {},
   "outputs": [],
   "source": [
    "from xgboost import XGBRegressor\n",
    "from sklearn.metrics import mean_squared_error,r2_score,mean_absolute_error\n",
    "x_train, x_test, y_train, y_test=train_test_split(x,y,test_size=.20,random_state=1)\n",
    "xgb=XGBRegressor()"
   ]
  },
  {
   "cell_type": "code",
   "execution_count": 123,
   "id": "925c4a97-67fe-4d27-b4a9-8f3a65b41acf",
   "metadata": {},
   "outputs": [],
   "source": [
    "model = xgb.fit(x_train,y_train)"
   ]
  },
  {
   "cell_type": "code",
   "execution_count": 124,
   "id": "28158127-37f0-44f0-9eda-68660bb3dc7d",
   "metadata": {},
   "outputs": [],
   "source": [
    "tahmin = model.predict(x_test)"
   ]
  },
  {
   "cell_type": "code",
   "execution_count": 125,
   "id": "88493fa1-546a-490e-a8f0-fefbed96224e",
   "metadata": {},
   "outputs": [
    {
     "data": {
      "text/plain": [
       "0.8649123012101791"
      ]
     },
     "execution_count": 125,
     "metadata": {},
     "output_type": "execute_result"
    }
   ],
   "source": [
    "r2_score(y_test,tahmin)"
   ]
  },
  {
   "cell_type": "code",
   "execution_count": 126,
   "id": "ac380c8f-59b4-4c00-ad14-4e54d53a2481",
   "metadata": {},
   "outputs": [
    {
     "data": {
      "text/plain": [
       "13732.509409230934"
      ]
     },
     "execution_count": 126,
     "metadata": {},
     "output_type": "execute_result"
    }
   ],
   "source": [
    "mean_squared_error(y_test,tahmin)**0.5"
   ]
  },
  {
   "cell_type": "code",
   "execution_count": 128,
   "id": "4e82c680-1997-42fc-839b-081135558555",
   "metadata": {},
   "outputs": [],
   "source": [
    "import pickle"
   ]
  },
  {
   "cell_type": "code",
   "execution_count": 129,
   "id": "a0f3ef21-ce47-4bd8-9415-cb0c65922383",
   "metadata": {},
   "outputs": [],
   "source": [
    "with open('laptop_price_predict.pkl','wb') as f:\n",
    "    pickle.dump(model,f)"
   ]
  },
  {
   "cell_type": "code",
   "execution_count": null,
   "id": "68ae80f5-5322-4fb4-91cc-ce7965bdea6a",
   "metadata": {},
   "outputs": [],
   "source": []
  },
  {
   "cell_type": "code",
   "execution_count": null,
   "id": "38ac9fc2-5e3f-4e6b-a191-2d4e5371b7fd",
   "metadata": {},
   "outputs": [],
   "source": []
  },
  {
   "cell_type": "code",
   "execution_count": null,
   "id": "904bb849-d48b-4515-a244-3c582841813f",
   "metadata": {},
   "outputs": [],
   "source": []
  },
  {
   "cell_type": "code",
   "execution_count": null,
   "id": "f9e9968b-247e-40df-98da-f8d795bfb697",
   "metadata": {},
   "outputs": [],
   "source": []
  },
  {
   "cell_type": "code",
   "execution_count": null,
   "id": "d304af67-dbbd-4df2-ab88-b1f0f6e3bbda",
   "metadata": {},
   "outputs": [],
   "source": []
  },
  {
   "cell_type": "code",
   "execution_count": null,
   "id": "8e0da48f-99a5-4de9-b467-676abc173309",
   "metadata": {},
   "outputs": [],
   "source": []
  },
  {
   "cell_type": "code",
   "execution_count": null,
   "id": "efcf2b6f-f5be-4695-b6cb-a881dd5aa155",
   "metadata": {},
   "outputs": [],
   "source": []
  }
 ],
 "metadata": {
  "kernelspec": {
   "display_name": "Python 3 (ipykernel)",
   "language": "python",
   "name": "python3"
  },
  "language_info": {
   "codemirror_mode": {
    "name": "ipython",
    "version": 3
   },
   "file_extension": ".py",
   "mimetype": "text/x-python",
   "name": "python",
   "nbconvert_exporter": "python",
   "pygments_lexer": "ipython3",
   "version": "3.10.18"
  }
 },
 "nbformat": 4,
 "nbformat_minor": 5
}
